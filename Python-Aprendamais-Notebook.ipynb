{
 "cells": [
  {
   "cell_type": "markdown",
   "id": "38bcfc62",
   "metadata": {},
   "source": [
    "Python Fundamental 1 - Turma 2025B"
   ]
  },
  {
   "cell_type": "code",
   "execution_count": 1,
   "id": "96412fdf",
   "metadata": {},
   "outputs": [
    {
     "name": "stdout",
     "output_type": "stream",
     "text": [
      "\tHello World!\n",
      "\n",
      "Bem vindo ao meu Caderno de anotações sobre o Python em Jupyter!\n",
      "\n",
      "Claro que este é o meu primeiro Notebook onde escreverei algumas coisa que venho aprendendo ao longo do tempo sobre Python\n",
      "\n",
      "\tDedicatoria \n",
      "\n",
      " A mim, espero que possa evoluir sempre mais! Não apenas buscar conhecimento mas aplica-ló e usa-ló para um bem sendo pelos meus familiares,\n",
      " amigos, pela sociedade e patria, pelo mundo, por Deus, Cosmos e Verdade e ultimamente a mim. Torne-ti o Programador/Desenvolvedor que\n",
      " procurar ser e claro, seja uma pessoa melhor!\n"
     ]
    }
   ],
   "source": [
    "##Introduções\n",
    "##OBS: Isso é colocando em pratica um pouco que vi no meu curso do Aprenda Mais por mais que já seja experiente em Python.\n",
    "print(\"\\tHello World!\\n\\nBem vindo ao meu Caderno de anotações sobre o Python em Jupyter!\")\n",
    "print(\"\\nClaro que este é o meu primeiro Notebook onde escreverei algumas coisa que venho aprendendo ao longo do tempo sobre Python\")\n",
    "print(\"\\n\\tDedicatoria \\n\\n A mim, espero que possa evoluir sempre mais! Não apenas buscar conhecimento mas aplica-ló e usa-ló para um bem sendo pelos meus familiares,\\n amigos, pela sociedade e patria, pelo mundo, por Deus, Cosmos e Verdade e ultimamente a mim. Torne-ti o Programador/Desenvolvedor que\\n procurar ser e claro, seja uma pessoa melhor!\")"
   ]
  },
  {
   "cell_type": "markdown",
   "id": "9c69d6a1",
   "metadata": {},
   "source": [
    "OBS: Por mais que seja meu primeiro caderno no Jupyter, este caderno foi feito para o curso do Aprenda Mais que faço. "
   ]
  },
  {
   "cell_type": "markdown",
   "id": "e0d99c7c",
   "metadata": {},
   "source": [
    "Conceitos Basicos que devo anotar no Obsidian mais tarde:\n",
    "\n",
    "Script: Uma sequência de instruções escrito em uma compreensível por computadores, que diz a eles como realizar tarefas específicas.\n",
    "\n",
    "Codigo: Um conjunto de instruções, escrito em uma linguagem compreensível por computadores, que diz a eles como realizar tarefas específicas\n",
    "\n",
    "Codigo-Fonte: Um conjunto de instruções escritas em uma linguagem de programação que define o que um programa de computador deve fazer. É a representação textual do programa, onde o programador expressa a lógica e as funcionalidades desejadas. "
   ]
  },
  {
   "cell_type": "markdown",
   "id": "20130f38",
   "metadata": {},
   "source": [
    "Sobre texto:\n",
    "\n",
    "Sobre texto, há algumas legais que vi durante o curso que genuinamente não sabia ksksksks como por ex.:\n",
    "\n",
    "Separar (\"sep=\"): Ele é usado para separar uma coisa e outra com \"sep=\" onde se eu quiser, posso colocar o que escrever como separador. Ex.: "
   ]
  },
  {
   "cell_type": "code",
   "execution_count": null,
   "id": "730fd575",
   "metadata": {},
   "outputs": [],
   "source": [
    "##Sem escrever \n",
    "print(\"Hello\", \"World\", sep=\"    \")"
   ]
  },
  {
   "cell_type": "code",
   "execution_count": null,
   "id": "0c3f5930",
   "metadata": {},
   "outputs": [],
   "source": [
    "##Escrevendo no sep=\n",
    "print(\"Seja\",\"Bem\",\"vindo!\",sep=\"--\")"
   ]
  },
  {
   "cell_type": "markdown",
   "id": "82ca842c",
   "metadata": {},
   "source": [
    "Quebra da Quebra de Linha(\"end=\"):\n",
    "\n",
    "Basicamente você pode usa-lo para evitar quebra de linha porém, onde o \"\\n\" é basicamente um quebra linha, você pode combinar os dois para quebrar a linha. Ex.:"
   ]
  },
  {
   "cell_type": "code",
   "execution_count": null,
   "id": "69434284",
   "metadata": {},
   "outputs": [],
   "source": [
    "##Sem combinar\n",
    "print(\"Era uma vez\", end=\" \")\n",
    "print(\"um programador curioso\", end=\", \")\n",
    "print(\"que queria entender\", end=\" \")\n",
    "print(\"como o parâmetro 'end=' funcionava.\", end=\" \")\n",
    "print(\"E assim,\", end=\" \")\n",
    "print(\"linha após linha,\", end=\" \")\n",
    "print(\"ele foi escrevendo tudo\", end=\" \")\n",
    "print(\"em uma só linha!\")"
   ]
  },
  {
   "cell_type": "code",
   "execution_count": 2,
   "id": "66f690ad",
   "metadata": {},
   "outputs": [
    {
     "name": "stdout",
     "output_type": "stream",
     "text": [
      "Era uma vez\n",
      "um programador curioso,\n",
      "que queria entender\n",
      "como o parâmetro 'end=' funcionava.\n",
      "E assim,\n",
      "linha após linha,\n",
      "ele foi escrevendo tudo\n",
      "em uma só linha!\n",
      "\n",
      "Contudo pensou: 'Porque não quebrar?\n",
      "Logo quebrou\n"
     ]
    }
   ],
   "source": [
    "##Com combinação\n",
    "print(\"Era uma vez\", end=\"\\n\")\n",
    "print(\"um programador curioso\", end=\",\\n\")\n",
    "print(\"que queria entender\", end=\"\\n\")\n",
    "print(\"como o parâmetro 'end=' funcionava.\", end=\"\\n\")\n",
    "print(\"E assim,\", end=\"\\n\")\n",
    "print(\"linha após linha,\", end=\"\\n\")\n",
    "print(\"ele foi escrevendo tudo\", end=\"\\n\")\n",
    "print(\"em uma só linha!\", end=\"\\n\\n\")\n",
    "print(\"Contudo pensou: 'Porque não quebrar?\", end=\"\\n\")\n",
    "print(\"Logo quebrou\")"
   ]
  },
  {
   "cell_type": "markdown",
   "id": "2adb2d51",
   "metadata": {},
   "source": [
    "Curiosidades:\n",
    "Se eu quissese evita o uso de '' dentro \"\" era mais facíl escrever o print com \"\"\". Ex.:"
   ]
  },
  {
   "cell_type": "code",
   "execution_count": null,
   "id": "b5b88ea2",
   "metadata": {},
   "outputs": [],
   "source": [
    "print(\"\"\"Era uma vez\n",
    "um programador curioso,\n",
    "que queria entender\n",
    "como o parâmetro \"end=\" funcionava.\n",
    "E assim,\n",
    "linha após linha,\n",
    "ele foi escrevendo tudo\n",
    "em uma só linha!\n",
    "\n",
    "Contudo pensou: \"Porque não quebrar?\"\n",
    "Logo quebrou\"\"\")\n"
   ]
  },
  {
   "cell_type": "markdown",
   "id": "0203ac68",
   "metadata": {},
   "source": [
    "Comentarios\n",
    "\n",
    "Algo que podem ter visto em minhas anotações seria os \"#\" e talvez vocês podem estar se perguntando: \"Por que eles não aparecem no Terminal?\"\n",
    "No caso, eles não aparecem porque são comentários alias algo que pode facilitar o uso deles sem que precise digitar, se você for preguiçoso como eu é claro! você pode selecionar o codigo que quer e segurando o ctrl ou control, clicar no botão do teclado onde tenha \";\"."
   ]
  },
  {
   "cell_type": "markdown",
   "id": "843993da",
   "metadata": {},
   "source": [
    "Aula 01 - Literais e tipos de dados:\n",
    "\n",
    "Variaveis:\n",
    "\n",
    "De forma breve, variaveis são como uma incognita, é um tipo de \"armazenamento\" de dados ou valores que possa ser facilmente modificada e obviamente existe varios tipos que vou exemplificar aqui.\n",
    "\n",
    "Inteiro (Int):\n",
    "Como na matemática, variaveis inteiras só podem receber valores inteiros como (1,2,3....) ex.:"
   ]
  },
  {
   "cell_type": "code",
   "execution_count": null,
   "id": "4b4be42d",
   "metadata": {},
   "outputs": [],
   "source": [
    "inteiro = int(input(\"Digite um número inteiro: \"))\n",
    "print(inteiro)"
   ]
  },
  {
   "cell_type": "markdown",
   "id": "d2982548",
   "metadata": {},
   "source": [
    "Real (Float):\n",
    "\n",
    "Como a maioria das variaveis que são aritmeticas, esta daqui aceita numeros/valores reais como (0.1 , 0.2 ......) Observa que: Usa-se \".\" ao invés de \",\" no nº real pois a vírgula já é usado como forma de separar uma setença a outraex.:"
   ]
  },
  {
   "cell_type": "code",
   "execution_count": null,
   "id": "a075b6c5",
   "metadata": {},
   "outputs": [],
   "source": [
    "real = float(input(\"Digite um número real: \"))\n",
    "print(real)"
   ]
  },
  {
   "cell_type": "markdown",
   "id": "5d31a33f",
   "metadata": {},
   "source": [
    "String (Str)\n",
    "\n",
    "String seria a propria linha do codigo podendo ser quanta o dado/valor exibido quando armazenado. Ex.:"
   ]
  },
  {
   "cell_type": "code",
   "execution_count": null,
   "id": "a01609ef",
   "metadata": {},
   "outputs": [],
   "source": [
    "##Valor exibido:\n",
    "print(\"Hello World!\") ##\"Hello World\" é a propria string"
   ]
  },
  {
   "cell_type": "code",
   "execution_count": null,
   "id": "2b2ba9e5",
   "metadata": {},
   "outputs": [],
   "source": [
    "##Valor Armazenado\n",
    "string = \"Exemplo daora :D\"\n",
    "str(string)"
   ]
  },
  {
   "cell_type": "markdown",
   "id": "e115605b",
   "metadata": {},
   "source": [
    "Boolean(Bool)\n",
    "\n",
    "Esta variavel é baseada nas ideias de George Boole, onde em seus processos apenas recebem respostas binarias, ou seja, verdadeiro(true) ou falso(false). Ex.:"
   ]
  },
  {
   "cell_type": "code",
   "execution_count": null,
   "id": "d358fa72",
   "metadata": {},
   "outputs": [],
   "source": [
    "resposta = bool(input(\"ok: \"))\n",
    "print(resposta)"
   ]
  },
  {
   "cell_type": "markdown",
   "id": "93803b82",
   "metadata": {},
   "source": [
    "Explicação do porque true e false ou qualquer coisa dá true:\n",
    "\n",
    "Quando colocamos input ele sempre pede um valor/string e só da enter é como não dá nenhum valor/string. Ou seja:\n",
    "\n",
    "print(bool(\"\"))         # False\n",
    "print(bool(\"oi\"))       # True\n",
    "print(bool(\"False\"))    # True (a string \"False\" ainda é uma string não vazia!)"
   ]
  },
  {
   "cell_type": "markdown",
   "id": "c446d63b",
   "metadata": {},
   "source": [
    "Operadores aritmeticos\n",
    "\n",
    "De forma resumida, exemplificarei com uma unica linha de codigo mas ainda sim, legendarei:\n",
    "\"+\" Adição\n",
    "\"-\" Subtração\n",
    "\"*\" Multiplicação\n",
    "\"/\" Divisão\n",
    "\"//\" Divisão Inteira\n",
    "\"%\" Radiciação\n",
    "\"**\" Exponenciação"
   ]
  },
  {
   "cell_type": "code",
   "execution_count": null,
   "id": "3e7259e2",
   "metadata": {},
   "outputs": [],
   "source": [
    "##Numeros:\n",
    "print(1000+1-1*1/1)"
   ]
  },
  {
   "cell_type": "code",
   "execution_count": null,
   "id": "f855f18a",
   "metadata": {},
   "outputs": [],
   "source": [
    "##Palavras:\n",
    "print(\"tele\"+\"fone\")"
   ]
  },
  {
   "cell_type": "markdown",
   "id": "4a8104bf",
   "metadata": {},
   "source": [
    "Exibição de Valores\n",
    "\n",
    "Geralmente, quando pedirmos um valor a pessoa, usamos \"input(\"seu texto aqui\")\". Ex:"
   ]
  },
  {
   "cell_type": "code",
   "execution_count": null,
   "id": "cc1f29ef",
   "metadata": {},
   "outputs": [],
   "source": [
    "nome= input(\"Digite seu nome: \")\n",
    "print(\"Olá,\", nome,\"!\")"
   ]
  },
  {
   "cell_type": "markdown",
   "id": "94cc153b",
   "metadata": {},
   "source": [
    "Entretanto, podemos melhorar essa combinação do valor da variavel entre as strings!\n",
    "No caso, quando colocamos anteriormente, idenpendente se serve ou não, ele não passa pela formatação das strings e por isso incluimos o \"f\" antes do aspas para que possa ser formatado e as chaves ,\"{}\", para identificar a variavel onde chamamos as chaves de Identificadores. Ex. comparando:"
   ]
  },
  {
   "cell_type": "code",
   "execution_count": null,
   "id": "e9eb7f6d",
   "metadata": {},
   "outputs": [],
   "source": [
    "#Antes de melhorar\n",
    "nome = input('Digite seu nome:')\n",
    "print('Tenha um bom dia', nome, 'e não esqueça de praticar!')"
   ]
  },
  {
   "cell_type": "code",
   "execution_count": null,
   "id": "6de16431",
   "metadata": {},
   "outputs": [],
   "source": [
    "#Depois de melhorar\n",
    "nome = input('Digite seu nome:')\n",
    "print(f'Tenha um bom dia {nome}, e não esqueça de praticar!')"
   ]
  },
  {
   "cell_type": "code",
   "execution_count": null,
   "id": "3a45cc9e",
   "metadata": {},
   "outputs": [],
   "source": [
    "##Exemplo com nº\n",
    "x = 10\n",
    "print(f'O dobro do valor armazenado na variável é {x*2}')"
   ]
  },
  {
   "cell_type": "markdown",
   "id": "ac21bf9e",
   "metadata": {},
   "source": [
    "Algo interessante a acrescentar seria o que ja mostrei nos primeiros codigos que escrevemos sobre a exibição ou recebimento de valores. Antes mesmo de colocarmos o input, se tiver um valor especifico que deve sair, definir a variavel, ex.:"
   ]
  },
  {
   "cell_type": "code",
   "execution_count": null,
   "id": "ea1bdac6",
   "metadata": {},
   "outputs": [],
   "source": [
    "# nome = variavel = o que você digitar\n",
    "nome = input('Digite seu nome:') \n",
    "print(f\"Tenha um bom dia {nome}, 'e não esqueça de praticar!\")"
   ]
  },
  {
   "cell_type": "code",
   "execution_count": null,
   "id": "aaadad5d",
   "metadata": {},
   "outputs": [],
   "source": [
    "#Com nº:\n",
    "# valor1 e 2 = variavel do tipo float = o que você digitar\n",
    "print('Bem vindo(a) ao meu programa que soma dois números')\n",
    "valor1 = float(input(\"Digite o primeiro número: \"))\n",
    "valor2 = float(input(\"Digite o segundo número: \"))\n",
    "soma = valor1 + valor2\n",
    "print(f\"O resultado da soma destes dois números é: {soma}\")\n",
    "\n",
    "#OBS: Se você conseguir a proeza de fazer o exato curso que fiz, \n",
    "#verá que eu mudei a ultima linha e algumas outras coisas por estetica e p/aplicar o que vimos"
   ]
  },
  {
   "cell_type": "markdown",
   "id": "c17096be",
   "metadata": {},
   "source": [
    "Operadores Relacionais\n",
    "\n",
    "Diferentemente o aritmetico, ele estão mais focados as booleanas ou operações logicas onde:\n",
    "\n",
    "\"==\" = É igual a \n",
    "\"!=\" = É diferente de\n",
    "\">\" = É maior que\n",
    "\"<\" = É menor que \n",
    "\">=\" = É maior ou igual a \n",
    "\"<=\" = É menor ou igual a \n",
    "\n",
    "Ex.:"
   ]
  },
  {
   "cell_type": "code",
   "execution_count": null,
   "id": "71dc7d70",
   "metadata": {},
   "outputs": [],
   "source": [
    "print(7==7)  #\"==\" = É igual a \n",
    "print('isto'!='aquilo') #\"!=\" = É diferente de\n",
    "print(8>4) #\">\" = É maior que\n",
    "print(4<8) #\"<\" = É menor que \n",
    "print(8>=7) #\">=\" = É maior ou igual a\n",
    "print(7<=8) #\"<=\" = É menor ou igual a"
   ]
  },
  {
   "cell_type": "markdown",
   "id": "97d404c4",
   "metadata": {},
   "source": [
    "Estruturas condicionais\n",
    "\n",
    "Estruturas condicionais são casos e condições. Ex.:\n",
    "\n",
    "Se (If): A sintaxe desta estrutura exige pelo menos duas linhas de código. A primeira linha deve começar com a palavra 'if' seguida de espaço e uma condição, e terminando com : (dois pontos). Neste contexto, condição significa algo que seja ou resulte em True ou False, ou seja, uma expressão lógica. Por exemplo uma comparação usando um operador relacional é considerada uma expressão lógica, enquanto que uma operação aritmética não. Segue abaixo um exemplo:"
   ]
  },
  {
   "cell_type": "code",
   "execution_count": null,
   "id": "274fac19",
   "metadata": {},
   "outputs": [],
   "source": [
    "if 10 > 20: \n",
    "    print(True)\n",
    "else:\n",
    "    print(False)"
   ]
  },
  {
   "cell_type": "markdown",
   "id": "2d67be78",
   "metadata": {},
   "source": [
    "Caso contrario (Else): Como podem ver, pode corresponder ou a condição false ou um caso contrario. Ex.:"
   ]
  },
  {
   "cell_type": "code",
   "execution_count": null,
   "id": "c3e81ff9",
   "metadata": {},
   "outputs": [],
   "source": [
    "#\"Como um caso contrario\":\n",
    "\n",
    "def exemplo_menu():\n",
    "    while True:\n",
    "        print(\"\\n=== Exemplo ===\")\n",
    "        print(\"\\n--- Opções ---\")\n",
    "        print(\"1. A\")\n",
    "        print(\"2. B\")\n",
    "        print(\"3. C\")\n",
    "        opcao = input(\"Escolha uma opção: \")\n",
    "        \n",
    "        if opcao == '1':\n",
    "            print('Você selecionou \"A\"')\n",
    "        elif opcao == '2':\n",
    "            print('Você selecionou \"B\"')\n",
    "        elif opcao == '3':\n",
    "            print('Você selecionou \"C\"')\n",
    "            break\n",
    "        else:  #Se colocar um valor que não seja 1, 2 ou 3, dara erro, ou seja, condição False.\n",
    "            print(\"Erro\")\n",
    "exemplo_menu()\n"
   ]
  },
  {
   "cell_type": "markdown",
   "id": "dd8cf49b",
   "metadata": {},
   "source": [
    "E(And): Basicamente um complimento, ex.:"
   ]
  },
  {
   "cell_type": "code",
   "execution_count": null,
   "id": "f39429e6",
   "metadata": {},
   "outputs": [],
   "source": [
    "x = 10\n",
    "if 20 > x and x > 0:\n",
    "    print(True)\n",
    "else:\n",
    "    print(False)"
   ]
  },
  {
   "cell_type": "markdown",
   "id": "33f0780b",
   "metadata": {},
   "source": [
    "Ou(Or): Acho melhor apenas exemplificar:"
   ]
  },
  {
   "cell_type": "code",
   "execution_count": null,
   "id": "8ad0ee27",
   "metadata": {},
   "outputs": [],
   "source": [
    "x = 9\n",
    "if x >= 10 or x > 15:\n",
    "    print(True)\n",
    "else:\n",
    "    print(False)"
   ]
  },
  {
   "cell_type": "markdown",
   "id": "84420dda",
   "metadata": {},
   "source": [
    "not(Não): Acho melhor apenas exemplificar:"
   ]
  },
  {
   "cell_type": "code",
   "execution_count": null,
   "id": "fe3b95ee",
   "metadata": {},
   "outputs": [],
   "source": [
    "x = 2\n",
    "y = 2\n",
    "if x + y != 5:\n",
    "    print(True)\n",
    "else:\n",
    "    print(False)"
   ]
  }
 ],
 "metadata": {
  "kernelspec": {
   "display_name": "Python 3",
   "language": "python",
   "name": "python3"
  },
  "language_info": {
   "codemirror_mode": {
    "name": "ipython",
    "version": 3
   },
   "file_extension": ".py",
   "mimetype": "text/x-python",
   "name": "python",
   "nbconvert_exporter": "python",
   "pygments_lexer": "ipython3",
   "version": "3.13.3"
  }
 },
 "nbformat": 4,
 "nbformat_minor": 5
}
