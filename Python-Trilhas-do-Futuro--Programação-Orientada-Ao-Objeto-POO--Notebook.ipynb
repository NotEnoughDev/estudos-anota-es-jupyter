{
 "cells": [
  {
   "cell_type": "markdown",
   "id": "31c14cd1",
   "metadata": {},
   "source": [
    "# Introduções ✨\n",
    "----\n",
    "Olá, tudo bem? \n",
    "\n",
    "Este caderno em Jupyter é dedicado aos estudos do Trilhas do Futuro em Programação orientada ao objeto (POO). \n",
    "\n",
    "## Observações\n",
    "----\n",
    "*\"Não há fatos eternos ou Verdades absolutas\"* \n",
    "                                                -Friedrich Nietzsche \n",
    "\n",
    "O que escrevo é apenas registro de minha caminhada como programador e neste caderno do Jupyter ou qualquer outro caderno, indiferente. Com isso, peço para que sejam gentis, sejam curiosos e mente aberta, para quaisquer um que esteja vendo isto. Por favor, comente sobre, critique, sugira, ensine, eu quero aprender sempre mais e melhorar naquilo que faço no momento."
   ]
  },
  {
   "cell_type": "markdown",
   "id": "ba04f377",
   "metadata": {},
   "source": [
    "# Programação Orientada ao Objeto (POO) 💊\n",
    "----\n",
    "## O que é POO?\n",
    "A Programação Orientada ao Objeto ou POO é um paradigma da programação, um \"modelo para facilitar a gestão dos codigos e o ato de programar\"¹ baseado em objetos, ou seja, nas coisas, figuras reais para o programa.\n",
    "\n",
    "## Princípios POO\n",
    "----\n",
    "Para entendermos o que seria os princípios, teriamos que entender seus atributos/conceitos:\n",
    "- Classe: Molde p/criar objetos ou a representação do objeto em si.\n",
    "- Métodos: Comportamento e Ação; Instância da Classe, funções. \n",
    "- Atributos: Caracteristicas; Variaveis. "
   ]
  },
  {
   "cell_type": "markdown",
   "id": "fd844f56",
   "metadata": {},
   "source": [
    "### Encapsulamento:\n",
    "----\n",
    "Poderiamos resumir o encapsulamento como uma pilula, enquanto a classe poderia se exemplificar com a propria pilula, dentro da pilula onde se contém o químico, estaria os métodos e atributos. Em outras palavras, ele esconde os detalhes internos do objeto e protege os dados, assim, apenas o que for necessário é exposto.\n",
    "\n",
    "**Resumo**\n",
    "\n",
    "- Estrutura o comportamento de uma classe para que os atributos sejam tratados como deverá comportar o objeto.\n",
    "- É contextualizado quando temos a visão de que atributo e métodos podem ser restrito ao acesso tanto do conteúdo quanto a modificação do mesmo\n"
   ]
  },
  {
   "cell_type": "markdown",
   "id": "3d273cf6",
   "metadata": {},
   "source": [
    "### Herança:\n",
    "----\n",
    "Resumidamente, a herança seria os métodos e atributos em comum entre classes. Ex.:"
   ]
  },
  {
   "cell_type": "code",
   "execution_count": null,
   "id": "68566f4c",
   "metadata": {},
   "outputs": [],
   "source": [
    "# Classe Pai (Animal)\n",
    "class Animal:\n",
    "    def __init__(self, nome):\n",
    "        self.nome = nome  # Atributo 'nome'\n",
    "\n",
    "    def falar(self):\n",
    "        return f\"{self.nome} faz algum som.\"  # Método da classe Pai\n",
    "\n",
    "\n",
    "# Classe Filha (Cachorro)\n",
    "class Cachorro(Animal):\n",
    "    def falar(self):\n",
    "        return f\"{self.nome} diz: Au au!\"  # Método sobrescrito\n",
    "\n",
    "\n",
    "# Classe Filha (Gato)\n",
    "class Gato(Animal):\n",
    "    def falar(self):\n",
    "        return f\"{self.nome} diz: Miau!\"  # Método sobrescrito\n",
    "\n",
    "\n",
    "# Criando instâncias das classes\n",
    "animal = Animal(\"Bicho\")\n",
    "cachorro = Cachorro(\"Rex\")\n",
    "gato = Gato(\"Mimi\")\n",
    "\n",
    "# Chamando os métodos 'falar'\n",
    "print(animal.falar())  # Bicho faz algum som.\n",
    "print(cachorro.falar())  # Rex diz: Au au!\n",
    "print(gato.falar())  # Mimi diz: Miau!\n"
   ]
  },
  {
   "cell_type": "markdown",
   "id": "c51b8625",
   "metadata": {},
   "source": [
    "### Polimorfismo:\n",
    "----"
   ]
  },
  {
   "cell_type": "markdown",
   "id": "f2de1dfb",
   "metadata": {},
   "source": [
    "# Notas:\n",
    "\n",
    "0 - Sites/ferramentas que o professor recomendou p/ uso seria:\n",
    "   - Vercel\n",
    "   - V0.dev\n",
    "   - Perplexity\n",
    "   - Cursor (https://cursor.com/)\n",
    "\n",
    "1 - Escrevi entre aspas pois não sei se descrevi corretamente."
   ]
  }
 ],
 "metadata": {
  "kernelspec": {
   "display_name": "Python 3",
   "language": "python",
   "name": "python3"
  },
  "language_info": {
   "codemirror_mode": {
    "name": "ipython",
    "version": 3
   },
   "file_extension": ".py",
   "mimetype": "text/x-python",
   "name": "python",
   "nbconvert_exporter": "python",
   "pygments_lexer": "ipython3",
   "version": "3.13.3"
  }
 },
 "nbformat": 4,
 "nbformat_minor": 5
}
